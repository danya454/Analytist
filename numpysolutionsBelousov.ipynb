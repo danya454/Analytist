{
  "nbformat": 4,
  "nbformat_minor": 0,
  "metadata": {
    "colab": {
      "provenance": []
    },
    "kernelspec": {
      "name": "python3",
      "display_name": "Python 3"
    },
    "language_info": {
      "name": "python"
    }
  },
  "cells": [
    {
      "cell_type": "code",
      "execution_count": 21,
      "metadata": {
        "colab": {
          "base_uri": "https://localhost:8080/"
        },
        "id": "edDDUmrsNXgS",
        "outputId": "e261f7af-15b7-4ff8-ce19-8b6d12547cf7"
      },
      "outputs": [
        {
          "output_type": "stream",
          "name": "stdout",
          "text": [
            "[[ 1  2  3  4  5]\n",
            " [ 6  7  8  9 10]\n",
            " [11 12 13 14 15]\n",
            " [16 17 18 19 20]\n",
            " [21 22 23 24 25]]\n",
            "[55 60 65 70 75]\n"
          ]
        }
      ],
      "source": [
        "from numpy.core.fromnumeric import reshape\n",
        "import numpy as np \n",
        "a=np.zeros(10)\n",
        "b=np.ones(10)\n",
        "c=np.full(10,5)\n",
        "d=np.arange(10,51)\n",
        "e=np.arange(10,52,2)\n",
        "f=np.arange(9).reshape(3,3)\n",
        "g=np.eye(3)\n",
        "h=np.random.rand()\n",
        "i=np.random.randn(25)\n",
        "j=np.linspace(0.01,1,num=100)\n",
        "j1=j.reshape(10,10)\n",
        "\n",
        "mat = np.arange(1,26).reshape(5,5)\n",
        "print(mat)\n",
        "mat2=(mat[2:,1:])\n",
        "mat3=(mat[3,-1])\n",
        "mat4=(mat[0:3,1:2])\n",
        "mat5=(mat[4:,0:6])\n",
        "mat6=(mat[3:5,0:6])\n",
        "mat_sum=np.sum(mat)\n",
        "mat_std=np.std(mat)\n",
        "mat_sum_axis=np.sum(mat,axis=0)\n",
        "print(mat_sum_axis)"
      ]
    }
  ]
}